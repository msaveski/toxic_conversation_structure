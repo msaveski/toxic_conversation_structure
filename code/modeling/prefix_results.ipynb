{
 "cells": [
  {
   "cell_type": "code",
   "execution_count": 1,
   "metadata": {},
   "outputs": [],
   "source": [
    "import sys\n",
    "sys.path.append(\"../processing/\")"
   ]
  },
  {
   "cell_type": "code",
   "execution_count": 2,
   "metadata": {},
   "outputs": [],
   "source": [
    "import gzip\n",
    "import json\n",
    "import numpy as np\n",
    "from scipy import stats as sp_stats\n",
    "\n",
    "from _config import Config\n",
    "from utils import write_dicts_to_csv"
   ]
  },
  {
   "cell_type": "code",
   "execution_count": 3,
   "metadata": {},
   "outputs": [],
   "source": [
    "datasets = [\"news\", \"midterms\"]\n",
    "\n",
    "fields_to_exclude = [\n",
    "    \"features\",\n",
    "    \"features_excluded\"\n",
    "]\n",
    "\n",
    "conf = Config()\n",
    "out_fpath = f\"{conf.modeling_dir}/prefix/runs_csvs/res_q50_nested.csv\""
   ]
  },
  {
   "cell_type": "code",
   "execution_count": 4,
   "metadata": {},
   "outputs": [
    {
     "name": "stdout",
     "output_type": "stream",
     "text": [
      "len(all_runs) = 440\n"
     ]
    }
   ],
   "source": [
    "all_runs = []\n",
    "\n",
    "for dataset in datasets:\n",
    "    # paths\n",
    "    fpath = f\"{conf.modeling_dir}/prefix/runs/{dataset}_q50_nested_cv.json.gz\"\n",
    "    \n",
    "    # load\n",
    "    runs = json.load(gzip.open(fpath))\n",
    "\n",
    "    # aggregate metrics and filter fields\n",
    "    runs_agg = []\n",
    "\n",
    "    for run in runs:\n",
    "        run_agg = {}\n",
    "\n",
    "        for f_name, f_val in run.items():\n",
    "            \n",
    "            if f_name in fields_to_exclude:\n",
    "                continue\n",
    "                \n",
    "            elif f_name == \"clf\":\n",
    "                run_agg[\"clf_name\"] = f_val\n",
    "            \n",
    "            elif f_name == \"estimator\":\n",
    "                # if run[\"clf\"] == \"GB\":\n",
    "                #     print(\n",
    "                #         run[\"clf\"], \n",
    "                #         run[\"dataset\"],\n",
    "                #         run[\"prefix\"],\n",
    "                #         run[\"feature_groups\"],\n",
    "                #         run[\"estimator\"]\n",
    "                #     )\n",
    "                continue\n",
    "                \n",
    "            elif isinstance(f_val, list):\n",
    "                run_agg[f\"{f_name}__mean\"] = np.mean(f_val)\n",
    "                run_agg[f\"{f_name}__sem\"] = sp_stats.sem(f_val)\n",
    "\n",
    "            else:\n",
    "                run_agg[f_name] = f_val\n",
    "    \n",
    "        runs_agg.append(run_agg)\n",
    "\n",
    "    all_runs += runs_agg\n",
    "    \n",
    "print(\"len(all_runs) =\", len(all_runs))"
   ]
  },
  {
   "cell_type": "code",
   "execution_count": 5,
   "metadata": {},
   "outputs": [],
   "source": [
    "write_dicts_to_csv(all_runs, out_fpath)"
   ]
  },
  {
   "cell_type": "code",
   "execution_count": null,
   "metadata": {},
   "outputs": [],
   "source": []
  }
 ],
 "metadata": {
  "kernelspec": {
   "display_name": "Python 3.7.2 64-bit ('dtox': virtualenv)",
   "language": "python",
   "name": "python37264bitdtoxvirtualenvbf1c2042b6b64ee8b97dfe3287fe0a24"
  },
  "language_info": {
   "codemirror_mode": {
    "name": "ipython",
    "version": 3
   },
   "file_extension": ".py",
   "mimetype": "text/x-python",
   "name": "python",
   "nbconvert_exporter": "python",
   "pygments_lexer": "ipython3",
   "version": "3.7.2"
  }
 },
 "nbformat": 4,
 "nbformat_minor": 2
}
